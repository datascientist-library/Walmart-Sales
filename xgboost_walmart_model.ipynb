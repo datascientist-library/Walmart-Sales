{
 "cells": [
  {
   "cell_type": "markdown",
   "id": "14860cb9",
   "metadata": {},
   "source": [
    "### Following is the Walmart Sales Prediction model which will predict the sales based on parameters given"
   ]
  },
  {
   "cell_type": "code",
   "execution_count": 1,
   "id": "85c75ccc",
   "metadata": {},
   "outputs": [],
   "source": [
    "import joblib\n",
    "model = joblib.load(\"xgboost_walmart_model.pkl\")\n"
   ]
  },
  {
   "cell_type": "code",
   "execution_count": 2,
   "id": "1eaefcaf",
   "metadata": {},
   "outputs": [],
   "source": [
    "import pandas as pd\n",
    "\n",
    "def get_user_input():\n",
    "    data = {\n",
    "    'Store' : 22,\n",
    "    'Holiday_Flag' : 0, \n",
    "    'Temperature' : -1.85831231,\n",
    "    'Fuel_Price' : -0.258411682, \n",
    "    'CPI' : -0.877279416311131, \n",
    "    'Unemployment' : 0.244623024, \n",
    "    'Year' : 2011, \n",
    "    'Month' : 2, \n",
    "    'Week' : 5, \n",
    "    'Day' : 4,\n",
    "    'DayOfWeek' : 4, \n",
    "    'Is_Weekend' : 0, \n",
    "    'PreHoliday_Week' : False, \n",
    "    'Temp_Range_Cold' : False,\n",
    "    'Temp_Range_Mild' : False, \n",
    "    'Temp_Range_Hot' : False, \n",
    "    'Fuel_Level_Medium' : True,\n",
    "    'Fuel_Level_High': False, \n",
    "    'Holiday_Label_Non-Holiday': True\n",
    "            \n",
    "    }\n",
    "    \n",
    "    return pd.DataFrame([data])\n"
   ]
  },
  {
   "cell_type": "code",
   "execution_count": 3,
   "id": "f41cea05",
   "metadata": {},
   "outputs": [
    {
     "name": "stdout",
     "output_type": "stream",
     "text": [
      "Predicted Weekly Sales: $ 958176.06\n"
     ]
    }
   ],
   "source": [
    "input_df = get_user_input()\n",
    "prediction = model.predict(input_df)\n",
    "print(\"Predicted Weekly Sales: $\", round(prediction[0], 2))\n"
   ]
  }
 ],
 "metadata": {
  "kernelspec": {
   "display_name": "Python 3",
   "language": "python",
   "name": "python3"
  },
  "language_info": {
   "codemirror_mode": {
    "name": "ipython",
    "version": 3
   },
   "file_extension": ".py",
   "mimetype": "text/x-python",
   "name": "python",
   "nbconvert_exporter": "python",
   "pygments_lexer": "ipython3",
   "version": "3.12.3"
  }
 },
 "nbformat": 4,
 "nbformat_minor": 5
}
